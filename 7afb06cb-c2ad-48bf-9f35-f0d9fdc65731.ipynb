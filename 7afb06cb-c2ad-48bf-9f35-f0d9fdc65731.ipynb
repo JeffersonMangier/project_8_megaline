{
 "cells": [
  {
   "cell_type": "markdown",
   "metadata": {},
   "source": [
    "# ¡Hola, Jefferson!  \n",
    "\n",
    "Mi nombre es Carlos Ortiz, soy code reviewer de TripleTen y voy a revisar el proyecto que acabas de desarrollar.\n",
    "\n",
    "Cuando vea un error la primera vez, lo señalaré. Deberás encontrarlo y arreglarlo. La intención es que te prepares para un espacio real de trabajo. En un trabajo, el líder de tu equipo hará lo mismo. Si no puedes solucionar el error, te daré más información en la próxima ocasión. \n",
    "\n",
    "Encontrarás mis comentarios más abajo - **por favor, no los muevas, no los modifiques ni los borres**.\n",
    "\n",
    "¿Cómo lo voy a hacer? Voy a leer detenidamente cada una de las implementaciones que has llevado a cabo para cumplir con lo solicitado. Verás los comentarios de esta forma:\n",
    "\n",
    "<div class=\"alert alert-block alert-success\">\n",
    "<b>Comentario del revisor</b> <a class=\"tocSkip\"></a>\n",
    "    \n",
    "Si todo está perfecto.\n",
    "</div>\n",
    "\n",
    "\n",
    "<div class=\"alert alert-block alert-warning\">\n",
    "<b>Comentario del revisor</b> <a class=\"tocSkip\"></a>\n",
    "    \n",
    "Si tu código está bien pero se puede mejorar o hay algún detalle que le hace falta.\n",
    "</div>\n",
    "\n",
    "\n",
    "<div class=\"alert alert-block alert-danger\">\n",
    "    \n",
    "<b>Comentario del revisor</b> <a class=\"tocSkip\"></a>\n",
    "    \n",
    "    \n",
    "Si de pronto hace falta algo o existe algún problema con tu código o conclusiones.\n",
    "</div>\n",
    "\n",
    "\n",
    "Puedes responderme de esta forma: \n",
    "\n",
    "\n",
    "<div class=\"alert alert-block alert-info\">\n",
    "<b>Respuesta del estudiante</b> <a class=\"tocSkip\"></a>\n",
    "</div>\n",
    "¡Empecemos!"
   ]
  },
  {
   "cell_type": "markdown",
   "metadata": {},
   "source": [
    "# Proyecto 8: Compañía Móvil Megaline \n",
    "Este proyecto busca desarrollar y evaluar modelos de aprendizaje automático para predecir qué tipo de plan de teléfono móvil un cliente preferiría, normal o ultra, basándose en su comportamiento de uso. Se utilizarán tres modelos: Árbol de Decisión, Bosque Aleatorio y Regresión Logística. El objetivo es proporcionar a la compañía de telecomunicaciones información útil para mejorar la satisfacción del cliente y optimizar los recursos empresariales."
   ]
  },
  {
   "cell_type": "markdown",
   "metadata": {},
   "source": [
    "## Análisis Exploratorio de Datos"
   ]
  },
  {
   "cell_type": "markdown",
   "metadata": {},
   "source": [
    "**Importar Librerias**"
   ]
  },
  {
   "cell_type": "code",
   "execution_count": 4,
   "metadata": {},
   "outputs": [],
   "source": [
    "import pandas as pd\n",
    "from sklearn.model_selection import train_test_split, GridSearchCV\n",
    "from sklearn.tree import DecisionTreeClassifier\n",
    "from sklearn.ensemble import RandomForestClassifier\n",
    "from sklearn.linear_model import LogisticRegression\n",
    "from sklearn.metrics import accuracy_score, precision_score, recall_score, f1_score, confusion_matrix\n",
    "import matplotlib.pyplot as plt"
   ]
  },
  {
   "cell_type": "markdown",
   "metadata": {},
   "source": [
    "**Importar Datasets**"
   ]
  },
  {
   "cell_type": "code",
   "execution_count": 5,
   "metadata": {},
   "outputs": [],
   "source": [
    "df = pd.read_csv(\"/datasets/users_behavior.csv\")"
   ]
  },
  {
   "cell_type": "markdown",
   "metadata": {},
   "source": [
    "<div class=\"alert alert-block alert-success\">\n",
    "<b>Comentario del revisor</b> <a class=\"tocSkip\"></a>\n",
    "    \n",
    "Buen trabajo con la importación de datos y de librerías.\n",
    "</div>\n"
   ]
  },
  {
   "cell_type": "code",
   "execution_count": 6,
   "metadata": {},
   "outputs": [
    {
     "name": "stdout",
     "output_type": "stream",
     "text": [
      "   calls  minutes  messages   mb_used  is_ultra\n",
      "0   40.0   311.90      83.0  19915.42         0\n",
      "1   85.0   516.75      56.0  22696.96         0\n",
      "2   77.0   467.66      86.0  21060.45         0\n",
      "3  106.0   745.53      81.0   8437.39         1\n",
      "4   66.0   418.74       1.0  14502.75         0\n"
     ]
    }
   ],
   "source": [
    "# Explorar los primeros registros del dataset\n",
    "print(df.head())"
   ]
  },
  {
   "cell_type": "code",
   "execution_count": 9,
   "metadata": {},
   "outputs": [
    {
     "name": "stdout",
     "output_type": "stream",
     "text": [
      "<class 'pandas.core.frame.DataFrame'>\n",
      "RangeIndex: 3214 entries, 0 to 3213\n",
      "Data columns (total 5 columns):\n",
      " #   Column    Non-Null Count  Dtype  \n",
      "---  ------    --------------  -----  \n",
      " 0   calls     3214 non-null   float64\n",
      " 1   minutes   3214 non-null   float64\n",
      " 2   messages  3214 non-null   float64\n",
      " 3   mb_used   3214 non-null   float64\n",
      " 4   is_ultra  3214 non-null   int64  \n",
      "dtypes: float64(4), int64(1)\n",
      "memory usage: 125.7 KB\n",
      "None\n",
      "\n"
     ]
    },
    {
     "data": {
      "text/html": [
       "<div>\n",
       "<style scoped>\n",
       "    .dataframe tbody tr th:only-of-type {\n",
       "        vertical-align: middle;\n",
       "    }\n",
       "\n",
       "    .dataframe tbody tr th {\n",
       "        vertical-align: top;\n",
       "    }\n",
       "\n",
       "    .dataframe thead th {\n",
       "        text-align: right;\n",
       "    }\n",
       "</style>\n",
       "<table border=\"1\" class=\"dataframe\">\n",
       "  <thead>\n",
       "    <tr style=\"text-align: right;\">\n",
       "      <th></th>\n",
       "      <th>calls</th>\n",
       "      <th>minutes</th>\n",
       "      <th>messages</th>\n",
       "      <th>mb_used</th>\n",
       "      <th>is_ultra</th>\n",
       "    </tr>\n",
       "  </thead>\n",
       "  <tbody>\n",
       "    <tr>\n",
       "      <th>790</th>\n",
       "      <td>42.0</td>\n",
       "      <td>285.74</td>\n",
       "      <td>1.0</td>\n",
       "      <td>16807.61</td>\n",
       "      <td>0</td>\n",
       "    </tr>\n",
       "    <tr>\n",
       "      <th>1418</th>\n",
       "      <td>82.0</td>\n",
       "      <td>589.95</td>\n",
       "      <td>9.0</td>\n",
       "      <td>11666.32</td>\n",
       "      <td>0</td>\n",
       "    </tr>\n",
       "    <tr>\n",
       "      <th>618</th>\n",
       "      <td>65.0</td>\n",
       "      <td>490.26</td>\n",
       "      <td>76.0</td>\n",
       "      <td>30307.39</td>\n",
       "      <td>1</td>\n",
       "    </tr>\n",
       "    <tr>\n",
       "      <th>1109</th>\n",
       "      <td>69.0</td>\n",
       "      <td>479.79</td>\n",
       "      <td>0.0</td>\n",
       "      <td>17559.43</td>\n",
       "      <td>0</td>\n",
       "    </tr>\n",
       "    <tr>\n",
       "      <th>285</th>\n",
       "      <td>16.0</td>\n",
       "      <td>93.79</td>\n",
       "      <td>103.0</td>\n",
       "      <td>19428.22</td>\n",
       "      <td>1</td>\n",
       "    </tr>\n",
       "  </tbody>\n",
       "</table>\n",
       "</div>"
      ],
      "text/plain": [
       "      calls  minutes  messages   mb_used  is_ultra\n",
       "790    42.0   285.74       1.0  16807.61         0\n",
       "1418   82.0   589.95       9.0  11666.32         0\n",
       "618    65.0   490.26      76.0  30307.39         1\n",
       "1109   69.0   479.79       0.0  17559.43         0\n",
       "285    16.0    93.79     103.0  19428.22         1"
      ]
     },
     "execution_count": 9,
     "metadata": {},
     "output_type": "execute_result"
    }
   ],
   "source": [
    "# Información sobre el dataset\n",
    "print(df.info())\n",
    "print()\n",
    "df.sample(5)"
   ]
  },
  {
   "cell_type": "code",
   "execution_count": 8,
   "metadata": {},
   "outputs": [
    {
     "name": "stdout",
     "output_type": "stream",
     "text": [
      "Total de clientes en el plan Ultra: 985\n",
      "Total de clientes en el plan Smart: 2229\n"
     ]
    }
   ],
   "source": [
    "# Contar el número de clientes en el plan Ultra y en el plan Smart\n",
    "total_ultra = df[df['is_ultra'] == 1].shape[0]\n",
    "total_smart = df[df['is_ultra'] == 0].shape[0]\n",
    "\n",
    "print(\"Total de clientes en el plan Ultra:\", total_ultra)\n",
    "print(\"Total de clientes en el plan Smart:\", total_smart)"
   ]
  },
  {
   "cell_type": "code",
   "execution_count": 6,
   "metadata": {},
   "outputs": [
    {
     "data": {
      "text/html": [
       "<div>\n",
       "<style scoped>\n",
       "    .dataframe tbody tr th:only-of-type {\n",
       "        vertical-align: middle;\n",
       "    }\n",
       "\n",
       "    .dataframe tbody tr th {\n",
       "        vertical-align: top;\n",
       "    }\n",
       "\n",
       "    .dataframe thead th {\n",
       "        text-align: right;\n",
       "    }\n",
       "</style>\n",
       "<table border=\"1\" class=\"dataframe\">\n",
       "  <thead>\n",
       "    <tr style=\"text-align: right;\">\n",
       "      <th></th>\n",
       "      <th>calls</th>\n",
       "      <th>minutes</th>\n",
       "      <th>messages</th>\n",
       "      <th>mb_used</th>\n",
       "      <th>is_ultra</th>\n",
       "    </tr>\n",
       "  </thead>\n",
       "  <tbody>\n",
       "    <tr>\n",
       "      <th>count</th>\n",
       "      <td>3214.000000</td>\n",
       "      <td>3214.000000</td>\n",
       "      <td>3214.000000</td>\n",
       "      <td>3214.000000</td>\n",
       "      <td>3214.000000</td>\n",
       "    </tr>\n",
       "    <tr>\n",
       "      <th>mean</th>\n",
       "      <td>63.038892</td>\n",
       "      <td>438.208787</td>\n",
       "      <td>38.281269</td>\n",
       "      <td>17207.673836</td>\n",
       "      <td>0.306472</td>\n",
       "    </tr>\n",
       "    <tr>\n",
       "      <th>std</th>\n",
       "      <td>33.236368</td>\n",
       "      <td>234.569872</td>\n",
       "      <td>36.148326</td>\n",
       "      <td>7570.968246</td>\n",
       "      <td>0.461100</td>\n",
       "    </tr>\n",
       "    <tr>\n",
       "      <th>min</th>\n",
       "      <td>0.000000</td>\n",
       "      <td>0.000000</td>\n",
       "      <td>0.000000</td>\n",
       "      <td>0.000000</td>\n",
       "      <td>0.000000</td>\n",
       "    </tr>\n",
       "    <tr>\n",
       "      <th>25%</th>\n",
       "      <td>40.000000</td>\n",
       "      <td>274.575000</td>\n",
       "      <td>9.000000</td>\n",
       "      <td>12491.902500</td>\n",
       "      <td>0.000000</td>\n",
       "    </tr>\n",
       "    <tr>\n",
       "      <th>50%</th>\n",
       "      <td>62.000000</td>\n",
       "      <td>430.600000</td>\n",
       "      <td>30.000000</td>\n",
       "      <td>16943.235000</td>\n",
       "      <td>0.000000</td>\n",
       "    </tr>\n",
       "    <tr>\n",
       "      <th>75%</th>\n",
       "      <td>82.000000</td>\n",
       "      <td>571.927500</td>\n",
       "      <td>57.000000</td>\n",
       "      <td>21424.700000</td>\n",
       "      <td>1.000000</td>\n",
       "    </tr>\n",
       "    <tr>\n",
       "      <th>max</th>\n",
       "      <td>244.000000</td>\n",
       "      <td>1632.060000</td>\n",
       "      <td>224.000000</td>\n",
       "      <td>49745.730000</td>\n",
       "      <td>1.000000</td>\n",
       "    </tr>\n",
       "  </tbody>\n",
       "</table>\n",
       "</div>"
      ],
      "text/plain": [
       "             calls      minutes     messages       mb_used     is_ultra\n",
       "count  3214.000000  3214.000000  3214.000000   3214.000000  3214.000000\n",
       "mean     63.038892   438.208787    38.281269  17207.673836     0.306472\n",
       "std      33.236368   234.569872    36.148326   7570.968246     0.461100\n",
       "min       0.000000     0.000000     0.000000      0.000000     0.000000\n",
       "25%      40.000000   274.575000     9.000000  12491.902500     0.000000\n",
       "50%      62.000000   430.600000    30.000000  16943.235000     0.000000\n",
       "75%      82.000000   571.927500    57.000000  21424.700000     1.000000\n",
       "max     244.000000  1632.060000   224.000000  49745.730000     1.000000"
      ]
     },
     "execution_count": 6,
     "metadata": {},
     "output_type": "execute_result"
    }
   ],
   "source": [
    "# Resumen estadístico de los datos numéricos\n",
    "df.describe()"
   ]
  },
  {
   "cell_type": "markdown",
   "metadata": {},
   "source": [
    "Tipos de datos: Todas las variables son numéricas, siendo cuatro de tipo float64 (llamadas, minutos, mensajes y mb_usados) y una de tipo int64 (is_ultra, que indica si el usuario utiliza el plan Ultra o no)."
   ]
  },
  {
   "cell_type": "markdown",
   "metadata": {},
   "source": [
    "## Gráficos"
   ]
  },
  {
   "cell_type": "code",
   "execution_count": 7,
   "metadata": {},
   "outputs": [
    {
     "data": {
      "image/png": "[encoded data removed]",
      "text/plain": [
       "<Figure size 720x576 with 1 Axes>"
      ]
     },
     "metadata": {
      "needs_background": "light"
     },
     "output_type": "display_data"
    },
    {
     "name": "stdout",
     "output_type": "stream",
     "text": [
      "Total de clientes en el plan Smart: 2229\n",
      "Total de clientes en el plan Ultra: 985\n"
     ]
    }
   ],
   "source": [
    "# Gráfico de barras para la variable 'is_ultra'\n",
    "plt.figure(figsize=(10, 8))\n",
    "df['is_ultra'].value_counts().plot(kind='bar', color=['skyblue', 'salmon'])\n",
    "plt.title('Distribución de tipos de plan')\n",
    "plt.xlabel('Tipo de plan')\n",
    "plt.ylabel('Cantidad de usuarios')\n",
    "plt.xticks([0, 1], ['Smart', 'Ultra'], rotation=0)\n",
    "plt.show()\n",
    "# Contar el número de clientes en el plan Ultra y en el plan Smart\n",
    "total_ultra = df[df['is_ultra'] == 1].shape[0]\n",
    "total_smart = df[df['is_ultra'] == 0].shape[0]\n",
    "\n",
    "print(\"Total de clientes en el plan Smart:\", total_smart)\n",
    "print(\"Total de clientes en el plan Ultra:\", total_ultra)"
   ]
  },
  {
   "cell_type": "markdown",
   "metadata": {},
   "source": [
    "Existen más clientes en el plan Smart que en el plan Ultra, como se observa en el gráfico de barras. Esto sugiere que el plan Smart es más popular entre los usuarios en comparación con el plan Ultra."
   ]
  },
  {
   "cell_type": "code",
   "execution_count": 8,
   "metadata": {},
   "outputs": [
    {
     "data": {
      "image/png": "[encoded data removed]",
      "text/plain": [
       "<Figure size 864x720 with 4 Axes>"
      ]
     },
     "metadata": {
      "needs_background": "light"
     },
     "output_type": "display_data"
    }
   ],
   "source": [
    "# Calcular las estadísticas para el plan Ultra\n",
    "ultra_calls_mean = df[df['is_ultra'] == 1]['calls'].mean()\n",
    "ultra_minutes_mean = df[df['is_ultra'] == 1]['minutes'].mean()\n",
    "ultra_messages_mean = df[df['is_ultra'] == 1]['messages'].mean()\n",
    "ultra_mb_used_mean = df[df['is_ultra'] == 1]['mb_used'].mean()\n",
    "\n",
    "# Calcular las estadísticas para el plan Smart\n",
    "smart_calls_mean = df[df['is_ultra'] == 0]['calls'].mean()\n",
    "smart_minutes_mean = df[df['is_ultra'] == 0]['minutes'].mean()\n",
    "smart_messages_mean = df[df['is_ultra'] == 0]['messages'].mean()\n",
    "smart_mb_used_mean = df[df['is_ultra'] == 0]['mb_used'].mean()\n",
    "\n",
    "# Colores para cada gráfico\n",
    "colors = ['salmon', 'skyblue']\n",
    "\n",
    "# Crear el gráfico de barras\n",
    "plt.figure(figsize=(12, 10))\n",
    "\n",
    "# Gráfico de barras para la cantidad promedio de llamadas\n",
    "plt.subplot(2, 2, 1)\n",
    "plt.bar(['Ultra', 'Smart'], [ultra_calls_mean, smart_calls_mean], color=colors[0:2])\n",
    "plt.title('Cantidad Promedio de Llamadas')\n",
    "\n",
    "# Gráfico de barras para la cantidad promedio de minutos\n",
    "plt.subplot(2, 2, 2)\n",
    "plt.bar(['Ultra', 'Smart'], [ultra_minutes_mean, smart_minutes_mean], color=colors[0:2])\n",
    "plt.title('Cantidad Promedio de Minutos')\n",
    "\n",
    "# Gráfico de barras para la cantidad promedio de mensajes\n",
    "plt.subplot(2, 2, 3)\n",
    "plt.bar(['Ultra', 'Smart'], [ultra_messages_mean, smart_messages_mean], color=colors[0:2])\n",
    "plt.title('Cantidad Promedio de Mensajes')\n",
    "\n",
    "# Gráfico de barras para la cantidad promedio de megabytes utilizados\n",
    "plt.subplot(2, 2, 4)\n",
    "plt.bar(['Ultra', 'Smart'], [ultra_mb_used_mean, smart_mb_used_mean], color=colors[0:2])\n",
    "plt.title('Cantidad Promedio de Megabytes Utilizados')\n",
    "\n",
    "# Ajustar el espacio entre los gráficos\n",
    "plt.tight_layout()\n",
    "\n",
    "# Mostrar el gráfico\n",
    "plt.show()"
   ]
  },
  {
   "cell_type": "markdown",
   "metadata": {},
   "source": [
    "En términos de promedio, los usuarios del plan Ultra tienden a realizar más llamadas, consumir más minutos, enviar más mensajes y utilizar más megabytes de datos en comparación con los usuarios del plan Smart. Esto indica que los usuarios del plan Ultra son más activos en términos de consumo de servicios de telefonía móvil que los usuarios del plan Smart."
   ]
  },
  {
   "cell_type": "markdown",
   "metadata": {},
   "source": [
    "<div class=\"alert alert-block alert-warning\">\n",
    "<b>Comentario del revisor</b> <a class=\"tocSkip\"></a>\n",
    "    \n",
    "Puedes complementar esta descripción inicial con una exploración gráfica.\n",
    "</div>\n"
   ]
  },
  {
   "cell_type": "markdown",
   "metadata": {},
   "source": [
    "**Segmentación de los datos**"
   ]
  },
  {
   "cell_type": "code",
   "execution_count": 9,
   "metadata": {},
   "outputs": [],
   "source": [
    "# Separar las características (features) y el objetivo (target)\n",
    "features = df.drop('is_ultra', axis=1)\n",
    "target = df['is_ultra']\n",
    "\n",
    "# Dividir los datos en entrenamiento (60%), validación (20%) y prueba (20%)\n",
    "train_features, test_features, train_target, test_target = train_test_split(features, target, test_size=0.2, random_state=54321)\n",
    "train_features, val_features, train_target, val_target = train_test_split(train_features, train_target, test_size=0.25, random_state=54321)"
   ]
  },
  {
   "cell_type": "markdown",
   "metadata": {},
   "source": [
    "<div class=\"alert alert-block alert-success\">\n",
    "<b>Comentario del revisor</b> <a class=\"tocSkip\"></a>\n",
    "    \n",
    "Buen trabajo con esta separación de datos.\n",
    "</div>\n"
   ]
  },
  {
   "cell_type": "markdown",
   "metadata": {},
   "source": [
    "## Modelos"
   ]
  },
  {
   "cell_type": "markdown",
   "metadata": {},
   "source": [
    "### Arbol de Decisión"
   ]
  },
  {
   "cell_type": "code",
   "execution_count": 10,
   "metadata": {},
   "outputs": [],
   "source": [
    "# Definir los parámetros a buscar\n",
    "param_grid = {\n",
    "    'max_depth': range(1, 200)\n",
    "}\n",
    "\n",
    "# Crear el modelo de árbol de decisión\n",
    "dt_model = DecisionTreeClassifier(random_state=54321)\n",
    "\n",
    "# Instanciar GridSearchCV\n",
    "grid_search_dt = GridSearchCV(estimator=dt_model, param_grid=param_grid, cv=3, scoring='accuracy')\n",
    "\n",
    "# Entrenar el modelo\n",
    "grid_search_dt.fit(train_features, train_target)\n",
    "\n",
    "# Obtener los mejores hiperparámetros y el mejor score\n",
    "best_params_dt = grid_search_dt.best_params_\n",
    "best_score_dt = grid_search_dt.best_score_"
   ]
  },
  {
   "cell_type": "code",
   "execution_count": 11,
   "metadata": {},
   "outputs": [
    {
     "data": {
      "text/html": [
       "<div>\n",
       "<style scoped>\n",
       "    .dataframe tbody tr th:only-of-type {\n",
       "        vertical-align: middle;\n",
       "    }\n",
       "\n",
       "    .dataframe tbody tr th {\n",
       "        vertical-align: top;\n",
       "    }\n",
       "\n",
       "    .dataframe thead th {\n",
       "        text-align: right;\n",
       "    }\n",
       "</style>\n",
       "<table border=\"1\" class=\"dataframe\">\n",
       "  <thead>\n",
       "    <tr style=\"text-align: right;\">\n",
       "      <th></th>\n",
       "      <th>Algorithm</th>\n",
       "      <th>Accuracy</th>\n",
       "      <th>Precision</th>\n",
       "      <th>Recall</th>\n",
       "      <th>F1 Score</th>\n",
       "    </tr>\n",
       "  </thead>\n",
       "  <tbody>\n",
       "    <tr>\n",
       "      <th>0</th>\n",
       "      <td>Decision Tree</td>\n",
       "      <td>0.769829</td>\n",
       "      <td>0.765625</td>\n",
       "      <td>0.453704</td>\n",
       "      <td>0.569767</td>\n",
       "    </tr>\n",
       "  </tbody>\n",
       "</table>\n",
       "</div>"
      ],
      "text/plain": [
       "       Algorithm  Accuracy  Precision    Recall  F1 Score\n",
       "0  Decision Tree  0.769829   0.765625  0.453704  0.569767"
      ]
     },
     "metadata": {},
     "output_type": "display_data"
    },
    {
     "name": "stdout",
     "output_type": "stream",
     "text": [
      "Best parameters for Decision Tree: {'max_depth': 5}\n",
      "Best score for Decision Tree: 0.7842295573869243\n",
      "Confusion Matrix for Decision Tree:\n",
      "[[397  30]\n",
      " [118  98]]\n"
     ]
    }
   ],
   "source": [
    "# Crear el modelo final con los mejores hiperparámetros\n",
    "best_dt_model = DecisionTreeClassifier(max_depth=best_params_dt['max_depth'], random_state=54321)\n",
    "\n",
    "best_dt_model.fit(train_features, train_target)\n",
    "\n",
    "# Evaluar el modelo en el conjunto de prueba\n",
    "test_predictions_dt = best_dt_model.predict(test_features)\n",
    "test_accuracy_dt = accuracy_score(test_target, test_predictions_dt)\n",
    "test_precision_dt = precision_score(test_target, test_predictions_dt)\n",
    "test_recall_dt = recall_score(test_target, test_predictions_dt)\n",
    "test_f1_dt = f1_score(test_target, test_predictions_dt)\n",
    "test_conf_matrix_dt = confusion_matrix(test_target, test_predictions_dt)\n",
    "\n",
    "# Crear DataFrame con los resultados del modelo\n",
    "decision_tree_df = pd.DataFrame(data=[['Decision Tree', test_accuracy_dt, test_precision_dt, test_recall_dt, test_f1_dt]], \n",
    "                                columns=['Algorithm', 'Accuracy', 'Precision', 'Recall', 'F1 Score'])\n",
    "\n",
    "# Mostrar resultados\n",
    "display(decision_tree_df)\n",
    "print('Best parameters for Decision Tree:', best_params_dt)\n",
    "print('Best score for Decision Tree:', best_score_dt)\n",
    "print('Confusion Matrix for Decision Tree:')\n",
    "print(test_conf_matrix_dt)"
   ]
  },
  {
   "cell_type": "markdown",
   "metadata": {},
   "source": [
    "El árbol de decisión logra una buena precisión, pero su recall es relativamente bajo, lo que indica que no identifica una parte significativa de los casos positivos. Esto se refleja en su puntuación F1, que, aunque razonable, no es tan alta como se esperaría para un modelo ideal."
   ]
  },
  {
   "cell_type": "markdown",
   "metadata": {},
   "source": [
    "### Bosque Aleatorio"
   ]
  },
  {
   "cell_type": "code",
   "execution_count": 12,
   "metadata": {},
   "outputs": [],
   "source": [
    "# Definir los parámetros a buscar\n",
    "param_grid = {\n",
    "    'n_estimators': range(1, 101, 10),\n",
    "    'max_depth': range(1, 21)\n",
    "}\n",
    "\n",
    "# Crear el modelo de Bosque Aleatorio\n",
    "rf_model = RandomForestClassifier(random_state=42)\n",
    "\n",
    "# Instanciar GridSearchCV\n",
    "grid_search_rf = GridSearchCV(estimator=rf_model, param_grid=param_grid, cv=3, scoring='accuracy')\n",
    "\n",
    "# Entrenar el modelo\n",
    "grid_search_rf.fit(train_features, train_target)\n",
    "\n",
    "# Obtener los mejores hiperparámetros y el mejor score\n",
    "best_params_rf = grid_search_rf.best_params_\n",
    "best_score_rf = grid_search_rf.best_score_          "
   ]
  },
  {
   "cell_type": "code",
   "execution_count": 1,
   "metadata": {},
   "outputs": [
    {
     "ename": "NameError",
     "evalue": "name 'RandomForestClassifier' is not defined",
     "output_type": "error",
     "traceback": [
      "\u001b[0;31m---------------------------------------------------------------------------\u001b[0m",
      "\u001b[0;31mNameError\u001b[0m                                 Traceback (most recent call last)",
      "\u001b[0;32m/tmp/ipykernel_119/2537666805.py\u001b[0m in \u001b[0;36m<module>\u001b[0;34m\u001b[0m\n\u001b[1;32m      1\u001b[0m \u001b[0;31m# Crear el modelo final con los mejores hiperparámetros\u001b[0m\u001b[0;34m\u001b[0m\u001b[0;34m\u001b[0m\u001b[0;34m\u001b[0m\u001b[0m\n\u001b[0;32m----> 2\u001b[0;31m best_rf_model = RandomForestClassifier(n_estimators=best_params_rf['n_estimators'], \n\u001b[0m\u001b[1;32m      3\u001b[0m                                        \u001b[0mmax_depth\u001b[0m\u001b[0;34m=\u001b[0m\u001b[0mbest_params_rf\u001b[0m\u001b[0;34m[\u001b[0m\u001b[0;34m'max_depth'\u001b[0m\u001b[0;34m]\u001b[0m\u001b[0;34m,\u001b[0m\u001b[0;34m\u001b[0m\u001b[0;34m\u001b[0m\u001b[0m\n\u001b[1;32m      4\u001b[0m                                        random_state=42)\n\u001b[1;32m      5\u001b[0m \u001b[0;34m\u001b[0m\u001b[0m\n",
      "\u001b[0;31mNameError\u001b[0m: name 'RandomForestClassifier' is not defined"
     ]
    }
   ],
   "source": [
    "# Crear el modelo final con los mejores hiperparámetros\n",
    "best_rf_model = RandomForestClassifier(n_estimators=best_params_rf['n_estimators'], \n",
    "                                       max_depth=best_params_rf['max_depth'], \n",
    "                                       random_state=42)\n",
    "\n",
    "best_rf_model.fit(train_features, train_target)\n",
    "\n",
    "# Evaluar el modelo en el conjunto de prueba\n",
    "test_predictions_rf = best_rf_model.predict(test_features)\n",
    "test_accuracy_rf = accuracy_score(test_target, test_predictions_rf)\n",
    "test_precision_rf = precision_score(test_target, test_predictions_rf)\n",
    "test_recall_rf = recall_score(test_target, test_predictions_rf)\n",
    "test_f1_rf = f1_score(test_target, test_predictions_rf)\n",
    "test_conf_matrix_rf = confusion_matrix(test_target, test_predictions_rf)\n",
    "\n",
    "# Crear DataFrame con los resultados del modelo\n",
    "random_forest_df = pd.DataFrame(data=[['Random Forest', test_accuracy_rf, test_precision_rf, test_recall_rf, test_f1_rf]], \n",
    "                                columns=['Algorithm', 'Accuracy', 'Precision', 'Recall', 'F1 Score'])\n",
    "\n",
    "# Mostrar resultados\n",
    "display(random_forest_df)\n",
    "print('Best parameters for Random Forest:', best_params_rf)\n",
    "print('Best score for Random Forest:', best_score_rf)\n",
    "print('Confusion Matrix for Random Forest:')\n",
    "print(test_conf_matrix_rf)"
   ]
  },
  {
   "cell_type": "markdown",
   "metadata": {},
   "source": [
    "El Bosque Aleatorio muestra un equilibrio mejorado entre precisión y recall en comparación con el Árbol de Decisión. Aunque su precisión es ligeramente más baja, su recall es significativamente mejor, lo que se traduce en una puntuación F1 más alta. Este modelo parece ser una mejora sobre el árbol de decisión en términos de identificación de casos positivos."
   ]
  },
  {
   "cell_type": "markdown",
   "metadata": {},
   "source": [
    "### Regresión Logistica"
   ]
  },
  {
   "cell_type": "code",
   "execution_count": 14,
   "metadata": {},
   "outputs": [
    {
     "data": {
      "text/html": [
       "<div>\n",
       "<style scoped>\n",
       "    .dataframe tbody tr th:only-of-type {\n",
       "        vertical-align: middle;\n",
       "    }\n",
       "\n",
       "    .dataframe tbody tr th {\n",
       "        vertical-align: top;\n",
       "    }\n",
       "\n",
       "    .dataframe thead th {\n",
       "        text-align: right;\n",
       "    }\n",
       "</style>\n",
       "<table border=\"1\" class=\"dataframe\">\n",
       "  <thead>\n",
       "    <tr style=\"text-align: right;\">\n",
       "      <th></th>\n",
       "      <th>Algorithm</th>\n",
       "      <th>Accuracy</th>\n",
       "      <th>Precision</th>\n",
       "      <th>Recall</th>\n",
       "      <th>F1 Score</th>\n",
       "    </tr>\n",
       "  </thead>\n",
       "  <tbody>\n",
       "    <tr>\n",
       "      <th>0</th>\n",
       "      <td>Logistic Regression</td>\n",
       "      <td>0.709176</td>\n",
       "      <td>0.837209</td>\n",
       "      <td>0.166667</td>\n",
       "      <td>0.277992</td>\n",
       "    </tr>\n",
       "  </tbody>\n",
       "</table>\n",
       "</div>"
      ],
      "text/plain": [
       "             Algorithm  Accuracy  Precision    Recall  F1 Score\n",
       "0  Logistic Regression  0.709176   0.837209  0.166667  0.277992"
      ]
     },
     "metadata": {},
     "output_type": "display_data"
    },
    {
     "name": "stdout",
     "output_type": "stream",
     "text": [
      "Confusion Matrix:\n",
      "[[420   7]\n",
      " [180  36]]\n"
     ]
    }
   ],
   "source": [
    "lr_model = LogisticRegression(random_state=54321, solver='liblinear')\n",
    "lr_model.fit(train_features, train_target)\n",
    "\n",
    "# Evaluación final del modelo en el conjunto de prueba\n",
    "test_predictions = lr_model.predict(test_features)\n",
    "test_accuracy = accuracy_score(test_target, test_predictions)\n",
    "test_precision = precision_score(test_target, test_predictions)\n",
    "test_recall = recall_score(test_target, test_predictions)\n",
    "test_f1 = f1_score(test_target, test_predictions)\n",
    "test_conf_matrix = confusion_matrix(test_target, test_predictions)\n",
    "\n",
    "logistic_regression_df = pd.DataFrame(data=[['Logistic Regression', test_accuracy, test_precision, test_recall, test_f1]], columns=['Algorithm', 'Accuracy', 'Precision', 'Recall', 'F1 Score'])\n",
    "display(logistic_regression_df)\n",
    "print('Confusion Matrix:')\n",
    "print(test_conf_matrix)"
   ]
  },
  {
   "cell_type": "markdown",
   "metadata": {},
   "source": [
    "Aunque la regresión logística muestra una precisión bastante alta, su recall es muy bajo, lo que indica que identifica una pequeña proporción de los casos positivos. Esto se refleja en su puntuación F1, que es relativamente baja. En general, este modelo parece ser menos efectivo en la identificación de casos positivos en comparación con los otros dos modelos."
   ]
  },
  {
   "cell_type": "code",
   "execution_count": 15,
   "metadata": {
    "scrolled": true
   },
   "outputs": [
    {
     "data": {
      "text/html": [
       "<div>\n",
       "<style scoped>\n",
       "    .dataframe tbody tr th:only-of-type {\n",
       "        vertical-align: middle;\n",
       "    }\n",
       "\n",
       "    .dataframe tbody tr th {\n",
       "        vertical-align: top;\n",
       "    }\n",
       "\n",
       "    .dataframe thead th {\n",
       "        text-align: right;\n",
       "    }\n",
       "</style>\n",
       "<table border=\"1\" class=\"dataframe\">\n",
       "  <thead>\n",
       "    <tr style=\"text-align: right;\">\n",
       "      <th></th>\n",
       "      <th>Algorithm</th>\n",
       "      <th>Accuracy</th>\n",
       "      <th>Precision</th>\n",
       "      <th>Recall</th>\n",
       "      <th>F1 Score</th>\n",
       "    </tr>\n",
       "  </thead>\n",
       "  <tbody>\n",
       "    <tr>\n",
       "      <th>0</th>\n",
       "      <td>Decision Tree</td>\n",
       "      <td>0.769829</td>\n",
       "      <td>0.765625</td>\n",
       "      <td>0.453704</td>\n",
       "      <td>0.569767</td>\n",
       "    </tr>\n",
       "    <tr>\n",
       "      <th>1</th>\n",
       "      <td>Random Forest</td>\n",
       "      <td>0.780715</td>\n",
       "      <td>0.781955</td>\n",
       "      <td>0.481481</td>\n",
       "      <td>0.595989</td>\n",
       "    </tr>\n",
       "    <tr>\n",
       "      <th>2</th>\n",
       "      <td>Logistic Regression</td>\n",
       "      <td>0.709176</td>\n",
       "      <td>0.837209</td>\n",
       "      <td>0.166667</td>\n",
       "      <td>0.277992</td>\n",
       "    </tr>\n",
       "  </tbody>\n",
       "</table>\n",
       "</div>"
      ],
      "text/plain": [
       "             Algorithm  Accuracy  Precision    Recall  F1 Score\n",
       "0        Decision Tree  0.769829   0.765625  0.453704  0.569767\n",
       "1        Random Forest  0.780715   0.781955  0.481481  0.595989\n",
       "2  Logistic Regression  0.709176   0.837209  0.166667  0.277992"
      ]
     },
     "execution_count": 15,
     "metadata": {},
     "output_type": "execute_result"
    }
   ],
   "source": [
    "models_results = pd.concat([decision_tree_df, random_forest_df, logistic_regression_df], ignore_index=True)\n",
    "models_results"
   ]
  },
  {
   "cell_type": "markdown",
   "metadata": {},
   "source": [
    "<div class=\"alert alert-block alert-success\">\n",
    "<b>Comentario del revisor</b> <a class=\"tocSkip\"></a>\n",
    "    \n",
    "¡Excelente trabajo en esta sección! En el futuro, para poder trabajar con más hiperparámetros y no utilizar bucles, puedes explorar el objeto `GridSearchCV` de `sklearn`.\n",
    "</div>\n"
   ]
  },
  {
   "cell_type": "markdown",
   "metadata": {},
   "source": [
    "## Conclusión"
   ]
  },
  {
   "cell_type": "markdown",
   "metadata": {},
   "source": [
    "El modelo que tiene el mejor rendimiento es el Bosque Aleatorio (Random Forest). Este modelo tiene una exactitud del 78.07%, una precisión del 78.20%, y un recall del 48.15%. Además, su puntuación F1, que es una medida del equilibrio entre precisión y recall, es del 59.60%.\n",
    "\n",
    "Aunque la Regresión Logística (Logistic Regression) tiene una precisión ligeramente mayor del 70.92%, su recall es muy bajo, solo del 16.67%, lo que indica que identifica una proporción muy pequeña de los verdaderos casos positivos. Esto se refleja en su puntuación F1, que es considerablemente más baja en comparación con el Bosque Aleatorio, solo del 27.80%.\n",
    "\n",
    "Por otro lado, aunque el Árbol de Decisión (Decision Tree) tiene una precisión del 76.98%, su recall es del 45.37%, lo que indica que identifica menos casos positivos en comparación con el Bosque Aleatorio. Además, su puntuación F1 es del 56.98%, que es menor que la del Bosque Aleatorio.\n",
    "\n",
    "En resumen, el Bosque Aleatorio proporciona un mejor equilibrio entre precisión y recall, lo que se refleja en su puntuación F1 más alta, y por lo tanto se considera el mejor modelo para este conjunto de datos y problema en particular."
   ]
  },
  {
   "cell_type": "markdown",
   "metadata": {},
   "source": [
    "<div class=\"alert alert-block alert-danger\">\n",
    "    \n",
    "# Comentarios generales\n",
    "<b>Comentario del revisor</b> <a class=\"tocSkip\"></a>\n",
    "    \n",
    "Buen trabajo, Jefferson. Nos quedan algunos elementos por corregir antes de poder aprobar tu proyecto. He dejado comentarios a lo largo del documento para ello.\n",
    "</div>\n"
   ]
  },
  {
   "cell_type": "markdown",
   "metadata": {},
   "source": [
    "<div class=\"alert alert-block alert-success\">\n",
    "    \n",
    "# Comentarios generales\n",
    "<b>Comentario del revisor</b> <a class=\"tocSkip\"></a>\n",
    "    \n",
    "Todo corregido. Has aprobado un nuevo proyecto. ¡Felicitaciones!\n",
    "</div>"
   ]
  }
 ],
 "metadata": {
  "kernelspec": {
   "display_name": "Python 3 (ipykernel)",
   "language": "python",
   "name": "python3"
  },
  "language_info": {
   "codemirror_mode": {
    "name": "ipython",
    "version": 3
   },
   "file_extension": ".py",
   "mimetype": "text/x-python",
   "name": "python",
   "nbconvert_exporter": "python",
   "pygments_lexer": "ipython3",
   "version": "3.9.19"
  },
  "toc": {
   "base_numbering": 1,
   "nav_menu": {},
   "number_sections": true,
   "sideBar": true,
   "skip_h1_title": true,
   "title_cell": "Table of Contents",
   "title_sidebar": "Contents",
   "toc_cell": false,
   "toc_position": {},
   "toc_section_display": true,
   "toc_window_display": false
  }
 },
 "nbformat": 4,
 "nbformat_minor": 2
}
